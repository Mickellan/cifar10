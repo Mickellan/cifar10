{
 "cells": [
  {
   "cell_type": "code",
   "execution_count": null,
   "metadata": {
    "scrolled": true
   },
   "outputs": [],
   "source": [
    "import os\n",
    "import torch\n",
    "import imageio\n",
    "import torchvision\n",
    "\n",
    "from torch.utils.data import Dataset\n",
    "\n",
    "from torchvision import transforms\n",
    "\n",
    "from sklearn.model_selection import train_test_split\n",
    "\n",
    "from PIL import Image\n",
    "\n",
    "import torchvision.transforms as T\n",
    "\n",
    "import matplotlib.pyplot as plt\n",
    "import numpy as np"
   ]
  },
  {
   "cell_type": "code",
   "execution_count": 5,
   "metadata": {},
   "outputs": [],
   "source": [
    "import torch.nn as nn\n",
    "\n",
    "import torch.nn.functional as F\n",
    "\n",
    "import torch.optim as optim"
   ]
  },
  {
   "cell_type": "code",
   "execution_count": 7,
   "metadata": {},
   "outputs": [],
   "source": [
    "from sklearn.metrics import confusion_matrix\n",
    "from sklearn.metrics import precision_score, recall_score, accuracy_score, f1_score"
   ]
  },
  {
   "cell_type": "code",
   "execution_count": 8,
   "metadata": {},
   "outputs": [],
   "source": [
    "raw_data_train = '/home/mkellylo/CIFAR-10-images-master/train/'\n",
    "raw_data_test  = '/home/mkellylo/CIFAR-10-images-master/test/'"
   ]
  },
  {
   "cell_type": "markdown",
   "metadata": {},
   "source": [
    "## Train"
   ]
  },
  {
   "cell_type": "code",
   "execution_count": 9,
   "metadata": {},
   "outputs": [],
   "source": [
    "dataset_train = []\n",
    "labels_train  = []\n",
    "targets_train = []"
   ]
  },
  {
   "cell_type": "code",
   "execution_count": 10,
   "metadata": {},
   "outputs": [
    {
     "name": "stdout",
     "output_type": "stream",
     "text": [
      "horse\n",
      "dog\n",
      "truck\n",
      "automobile\n",
      "ship\n",
      "airplane\n",
      "frog\n",
      "bird\n",
      "cat\n",
      "deer\n"
     ]
    }
   ],
   "source": [
    "for folder in os.listdir(raw_data_train):\n",
    "    print(folder)\n",
    "    ## print( os.path.join(raw_data_train, folder) )\n",
    "    for image in os.listdir( os.path.join(raw_data_train, folder) ):\n",
    "        ## print(image)\n",
    "        if folder not in labels_train:\n",
    "            labels_train.append(folder)\n",
    "        targets_train.append( labels_train.index(folder) )\n",
    "        \n",
    "        img_arr = imageio.imread( os.path.join(raw_data_train, folder, image), pilmode=\"RGB\")\n",
    "        ## resize = torchvision.transforms.Resize(size)\n",
    "        ## crop_center = torchvision.transforms.CenterCrop(size)\n",
    "\n",
    "        img = torch.from_numpy(img_arr).permute(2, 0, 1).float()\n",
    "        ## img = resize(img)\n",
    "        ## img = crop_center(img)\n",
    "        img /= 255\n",
    "        dataset_train.append(img)     "
   ]
  },
  {
   "cell_type": "code",
   "execution_count": 24,
   "metadata": {},
   "outputs": [
    {
     "data": {
      "text/plain": [
       "10"
      ]
     },
     "execution_count": 24,
     "metadata": {},
     "output_type": "execute_result"
    }
   ],
   "source": [
    "len(labels_train)"
   ]
  },
  {
   "cell_type": "code",
   "execution_count": 25,
   "metadata": {},
   "outputs": [
    {
     "data": {
      "text/plain": [
       "50000"
      ]
     },
     "execution_count": 25,
     "metadata": {},
     "output_type": "execute_result"
    }
   ],
   "source": [
    "len( targets_train )"
   ]
  },
  {
   "cell_type": "code",
   "execution_count": 26,
   "metadata": {},
   "outputs": [
    {
     "data": {
      "text/plain": [
       "torch.Size([3, 32, 32])"
      ]
     },
     "execution_count": 26,
     "metadata": {},
     "output_type": "execute_result"
    }
   ],
   "source": [
    "dataset_train[1].shape"
   ]
  },
  {
   "cell_type": "code",
   "execution_count": 27,
   "metadata": {},
   "outputs": [],
   "source": [
    "data_train    = torch.stack(  dataset_train )\n",
    "targets_train = torch.Tensor( targets_train ).type( torch.LongTensor )\n",
    "\n",
    "torch.save( (data_train, targets_train, labels_train) , \"CIFAR_train_dataset\")\n",
    "\n",
    "## data1, targets1, labels1 = torch.load(dataset_save)"
   ]
  },
  {
   "cell_type": "code",
   "execution_count": 28,
   "metadata": {},
   "outputs": [
    {
     "data": {
      "text/plain": [
       "torch.Size([50000, 3, 32, 32])"
      ]
     },
     "execution_count": 28,
     "metadata": {},
     "output_type": "execute_result"
    }
   ],
   "source": [
    "data_train.shape"
   ]
  },
  {
   "cell_type": "code",
   "execution_count": 29,
   "metadata": {},
   "outputs": [
    {
     "data": {
      "text/plain": [
       "torch.Size([50000])"
      ]
     },
     "execution_count": 29,
     "metadata": {},
     "output_type": "execute_result"
    }
   ],
   "source": [
    "targets_train.shape"
   ]
  },
  {
   "cell_type": "code",
   "execution_count": 30,
   "metadata": {},
   "outputs": [
    {
     "data": {
      "text/plain": [
       "torch.Size([3, 32, 32])"
      ]
     },
     "execution_count": 30,
     "metadata": {},
     "output_type": "execute_result"
    }
   ],
   "source": [
    "data_train[2].shape"
   ]
  },
  {
   "cell_type": "code",
   "execution_count": 32,
   "metadata": {},
   "outputs": [
    {
     "data": {
      "text/plain": [
       "tensor([4, 4, 4, 4, 4, 4, 4, 4, 4, 4, 4, 4, 4, 4, 4, 4, 4, 4, 4, 4, 4, 4, 4, 4,\n",
       "        4, 4, 4, 4, 4, 4, 4, 4, 4, 4, 4, 4, 4, 4, 4, 4, 4, 4, 4, 4, 4, 4, 4, 4,\n",
       "        4, 4, 4, 4, 4, 4, 4, 4, 4, 4, 4, 4, 4, 4, 4, 4, 4, 4, 4, 4, 4, 4, 4, 4,\n",
       "        4, 4, 4, 4, 4, 4, 4, 4, 4, 4, 4, 4, 4, 4, 4, 4, 4, 4, 4, 4, 4, 4, 4, 4,\n",
       "        4, 4, 4, 4, 4, 4, 4, 4, 4, 4, 4, 4, 4, 4, 4, 4, 4, 4, 4, 4, 4, 4, 4, 4,\n",
       "        4, 4, 4, 4, 4, 4, 4, 4, 4, 4, 4, 4, 4, 4, 4, 4, 4, 4, 4, 4, 4, 4, 4, 4,\n",
       "        4, 4, 4, 4, 4, 4, 4, 4, 4, 4, 4, 4, 4, 4, 4, 4, 4, 4, 4, 4, 4, 4, 4, 4,\n",
       "        4, 4, 4, 4, 4, 4, 4, 4, 4, 4, 4, 4, 4, 4, 4, 4, 4, 4, 4, 4, 4, 4, 4, 4,\n",
       "        4, 4, 4, 4, 4, 4, 4, 4, 4, 4, 4, 4, 4, 4, 4, 4, 4, 4, 4, 4, 4, 4, 4, 4,\n",
       "        4, 4, 4, 4, 4, 4, 4, 4, 4, 4, 4, 4, 4, 4, 4, 4, 4, 4, 4, 4, 4, 4, 4, 4,\n",
       "        4, 4, 4, 4, 4, 4, 4, 4, 4, 4, 4, 4, 4, 4, 4, 4, 4, 4, 4, 4, 4, 4, 4, 4,\n",
       "        4, 4, 4, 4, 4, 4, 4, 4, 4, 4, 4, 4, 4, 4, 4, 4, 4, 4, 4, 4, 4, 4, 4, 4,\n",
       "        4, 4, 4, 4, 4, 4, 4, 4, 4, 4, 4, 4, 4, 4, 4, 4, 4, 4, 4, 4, 4, 4, 4, 4,\n",
       "        4, 4, 4, 4, 4, 4, 4, 4, 4, 4, 4, 4, 4, 4, 4, 4, 4, 4, 4, 4, 4, 4, 4, 4,\n",
       "        4, 4, 4, 4, 4, 4, 4, 4, 4, 4, 4, 4, 4, 4, 4, 4, 4, 4, 4, 4, 4, 4, 4, 4,\n",
       "        4, 4, 4, 4, 4, 4, 4, 4, 4, 4, 4, 4, 4, 4, 4, 4, 4, 4, 4, 4, 4, 4, 4, 4,\n",
       "        4, 4, 4, 4, 4, 4, 4, 4, 4, 4, 4, 4, 4, 4, 4, 4, 4, 4, 4, 4, 4, 4, 4, 4,\n",
       "        4, 4, 4, 4, 4, 4, 4, 4, 4, 4, 4, 4, 4, 4, 4, 4, 4, 4, 4, 4, 4, 4, 4, 4,\n",
       "        4, 4, 4, 4, 4, 4, 4, 4, 4, 4, 4, 4, 4, 4, 4, 4, 4, 4, 4, 4, 4, 4, 4, 4,\n",
       "        4, 4, 4, 4, 4, 4, 4, 4, 4, 4, 4, 4, 4, 4, 4, 4, 4, 4, 4, 4, 4, 4, 4, 4,\n",
       "        4, 4, 4, 4, 4, 4, 4, 4, 4, 4, 4, 4, 4, 4, 4, 4, 4, 4, 4, 4, 4, 4, 4, 4,\n",
       "        4, 4, 4, 4, 4, 4, 4, 4, 4, 4, 4, 4, 4, 4, 4, 4, 4, 4, 4, 4, 4, 4, 4, 4,\n",
       "        4, 4, 4, 4, 4, 4, 4, 4, 4, 4, 4, 4, 4, 4, 4, 4, 4, 4, 4, 4, 4, 4, 4, 4,\n",
       "        4, 4, 4, 4, 4, 4, 4, 4, 4, 4, 4, 4, 4, 4, 4, 4, 4, 4, 4, 4, 4, 4, 4, 4,\n",
       "        4, 4, 4, 4, 4, 4, 4, 4, 4, 4, 4, 4, 4, 4, 4, 4, 4, 4, 4, 4, 4, 4, 4, 4,\n",
       "        4, 4, 4, 4, 4, 4, 4, 4, 4, 4, 4, 4, 4, 4, 4, 4, 4, 4, 4, 4, 4, 4, 4, 4,\n",
       "        4, 4, 4, 4, 4, 4, 4, 4, 4, 4, 4, 4, 4, 4, 4, 4, 4, 4, 4, 4, 4, 4, 4, 4,\n",
       "        4, 4, 4, 4, 4, 4, 4, 4, 4, 4, 4, 4, 4, 4, 4, 4, 4, 4, 4, 4, 4, 4, 4, 4,\n",
       "        4, 4, 4, 4, 4, 4, 4, 4, 4, 4, 4, 4, 4, 4, 4, 4, 4, 4, 4, 4, 4, 4, 4, 4,\n",
       "        4, 4, 4, 4, 4, 4, 4, 4, 4, 4, 4, 4, 4, 4, 4, 4, 4, 4, 4, 4, 4, 4, 4, 4,\n",
       "        4, 4, 4, 4, 4, 4, 4, 4, 4, 4, 4, 4, 4, 4, 4, 4, 4, 4, 4, 4, 4, 4, 4, 4,\n",
       "        4, 4, 4, 4, 4, 4, 4, 4, 4, 4, 4, 4, 4, 4, 4, 4, 4, 4, 4, 4, 4, 4, 4, 4,\n",
       "        4, 4, 4, 4, 4, 4, 4, 4, 4, 4, 4, 4, 4, 4, 4, 4, 4, 4, 4, 4, 4, 4, 4, 4,\n",
       "        4, 4, 4, 4, 4, 4, 4, 4, 4, 4, 4, 4, 4, 4, 4, 4, 4, 4, 4, 4, 4, 4, 4, 4,\n",
       "        4, 4, 4, 4, 4, 4, 4, 4, 4, 4, 4, 4, 4, 4, 4, 4, 4, 4, 4, 4, 4, 4, 4, 4,\n",
       "        4, 4, 4, 4, 4, 4, 4, 4, 4, 4, 4, 4, 4, 4, 4, 4, 4, 4, 4, 4, 4, 4, 4, 4,\n",
       "        4, 4, 4, 4, 4, 4, 4, 4, 4, 4, 4, 4, 4, 4, 4, 4, 4, 4, 4, 4, 4, 4, 4, 4,\n",
       "        4, 4, 4, 4, 4, 4, 4, 4, 4, 4, 4, 4, 4, 4, 4, 4, 4, 4, 4, 4, 4, 4, 4, 4,\n",
       "        4, 4, 4, 4, 4, 4, 4, 4, 4, 4, 4, 4, 4, 4, 4, 4, 4, 4, 4, 4, 4, 4, 4, 4,\n",
       "        4, 4, 4, 4, 4, 4, 4, 4, 4, 4, 4, 4, 4, 4, 4, 4, 4, 4, 4, 4, 4, 4, 4, 4,\n",
       "        4, 4, 4, 4, 4, 4, 4, 4, 4, 4, 4, 4, 4, 4, 4, 4, 4, 4, 4, 4, 4, 4, 4, 4,\n",
       "        4, 4, 4, 4, 4, 4, 4, 4, 4, 4, 4, 4, 4, 4, 4, 4])"
      ]
     },
     "execution_count": 32,
     "metadata": {},
     "output_type": "execute_result"
    }
   ],
   "source": [
    "targets_train[24000:25000]"
   ]
  },
  {
   "cell_type": "code",
   "execution_count": 33,
   "metadata": {},
   "outputs": [
    {
     "data": {
      "text/plain": [
       "tensor([[[0.8353, 0.8039, 0.7882,  ..., 0.3294, 0.2980, 0.2471],\n",
       "         [0.8078, 0.8392, 0.8745,  ..., 0.3059, 0.2784, 0.2431],\n",
       "         [0.8235, 0.8431, 0.8549,  ..., 0.2824, 0.2627, 0.2549],\n",
       "         ...,\n",
       "         [0.4353, 0.4941, 0.4706,  ..., 0.3647, 0.3608, 0.3882],\n",
       "         [0.3843, 0.4196, 0.4314,  ..., 0.2980, 0.2902, 0.3529],\n",
       "         [0.4196, 0.4039, 0.4118,  ..., 0.2863, 0.2392, 0.3020]],\n",
       "\n",
       "        [[0.8078, 0.7765, 0.7529,  ..., 0.2706, 0.2471, 0.1961],\n",
       "         [0.7725, 0.8039, 0.8353,  ..., 0.2471, 0.2275, 0.1922],\n",
       "         [0.7843, 0.8039, 0.8039,  ..., 0.2157, 0.2039, 0.1961],\n",
       "         ...,\n",
       "         [0.3373, 0.3961, 0.3725,  ..., 0.3020, 0.2980, 0.3216],\n",
       "         [0.2902, 0.3255, 0.3333,  ..., 0.2471, 0.2353, 0.2980],\n",
       "         [0.3373, 0.3176, 0.3255,  ..., 0.2431, 0.1922, 0.2549]],\n",
       "\n",
       "        [[0.7765, 0.7451, 0.7176,  ..., 0.1961, 0.1725, 0.1294],\n",
       "         [0.7373, 0.7686, 0.8000,  ..., 0.1647, 0.1529, 0.1176],\n",
       "         [0.7451, 0.7647, 0.7686,  ..., 0.1373, 0.1216, 0.1137],\n",
       "         ...,\n",
       "         [0.1137, 0.1725, 0.1529,  ..., 0.1686, 0.1686, 0.2039],\n",
       "         [0.0549, 0.0902, 0.1098,  ..., 0.1216, 0.1294, 0.1922],\n",
       "         [0.0902, 0.0824, 0.0980,  ..., 0.1255, 0.0902, 0.1608]]])"
      ]
     },
     "execution_count": 33,
     "metadata": {},
     "output_type": "execute_result"
    }
   ],
   "source": [
    "img_tr = data_train[46000]\n",
    "img_tr"
   ]
  },
  {
   "cell_type": "code",
   "execution_count": 34,
   "metadata": {},
   "outputs": [],
   "source": [
    "transform = T.ToPILImage()"
   ]
  },
  {
   "cell_type": "code",
   "execution_count": 35,
   "metadata": {},
   "outputs": [],
   "source": [
    "img = transform( img_tr )"
   ]
  },
  {
   "cell_type": "code",
   "execution_count": 36,
   "metadata": {},
   "outputs": [
    {
     "data": {
      "image/png": "[encoded data removed]",
      "text/plain": [
       "<PIL.Image.Image image mode=RGB size=32x32 at 0x2AF6C10BA7F0>"
      ]
     },
     "execution_count": 36,
     "metadata": {},
     "output_type": "execute_result"
    }
   ],
   "source": [
    "img"
   ]
  },
  {
   "cell_type": "code",
   "execution_count": 37,
   "metadata": {},
   "outputs": [
    {
     "data": {
      "text/plain": [
       "array([0, 1, 2, 3, 4, 5, 6, 7, 8, 9])"
      ]
     },
     "execution_count": 37,
     "metadata": {},
     "output_type": "execute_result"
    }
   ],
   "source": [
    "y_train_np = targets_train.numpy() \n",
    "y_train_np.shape\n",
    "\n",
    "the_set = np.unique(  y_train_np  )\n",
    "the_set"
   ]
  },
  {
   "cell_type": "code",
   "execution_count": 38,
   "metadata": {},
   "outputs": [
    {
     "data": {
      "image/png": "[encoded data removed]",
      "text/plain": [
       "<Figure size 432x288 with 1 Axes>"
      ]
     },
     "metadata": {
      "needs_background": "light"
     },
     "output_type": "display_data"
    }
   ],
   "source": [
    "_ = plt.hist( targets_train.numpy(), bins=\"auto\" )\n",
    "plt.show()"
   ]
  },
  {
   "cell_type": "code",
   "execution_count": 39,
   "metadata": {},
   "outputs": [],
   "source": [
    "dataset_test = []\n",
    "labels_test  = []\n",
    "targets_test = []"
   ]
  },
  {
   "cell_type": "code",
   "execution_count": 48,
   "metadata": {},
   "outputs": [],
   "source": [
    "for folder in os.listdir(raw_data_test):\n",
    "    for image in os.listdir(os.path.join(raw_data_test, folder)):\n",
    "        if folder not in labels_test:\n",
    "            labels_test.append(folder)\n",
    "        targets_test.append(labels_test.index(folder))\n",
    "        \n",
    "        img_arr = imageio.imread(os.path.join(raw_data_test, folder, image), pilmode=\"RGB\")\n",
    "        \n",
    "        img = torch.from_numpy(img_arr).permute(2, 0, 1).float()\n",
    "        img /= 255\n",
    "        \n",
    "        dataset_test.append(img)"
   ]
  },
  {
   "cell_type": "code",
   "execution_count": 49,
   "metadata": {},
   "outputs": [],
   "source": [
    "data_test = torch.stack(dataset_test)\n",
    "targets_test = torch.Tensor(targets_test).type(torch.LongTensor)\n",
    "\n",
    "torch.save((data_test, targets_test, labels_test), \"InClass_CIFAR10_data_test\")"
   ]
  },
  {
   "cell_type": "code",
   "execution_count": 50,
   "metadata": {},
   "outputs": [
    {
     "data": {
      "text/plain": [
       "torch.Size([10000, 3, 32, 32])"
      ]
     },
     "execution_count": 50,
     "metadata": {},
     "output_type": "execute_result"
    }
   ],
   "source": [
    "data_test.shape"
   ]
  },
  {
   "cell_type": "code",
   "execution_count": 51,
   "metadata": {},
   "outputs": [
    {
     "data": {
      "text/plain": [
       "torch.Size([10001])"
      ]
     },
     "execution_count": 51,
     "metadata": {},
     "output_type": "execute_result"
    }
   ],
   "source": [
    "targets_test.shape"
   ]
  },
  {
   "cell_type": "code",
   "execution_count": 53,
   "metadata": {},
   "outputs": [
    {
     "data": {
      "image/png": "[encoded data removed]",
      "text/plain": [
       "<Figure size 432x288 with 1 Axes>"
      ]
     },
     "metadata": {
      "needs_background": "light"
     },
     "output_type": "display_data"
    }
   ],
   "source": [
    "_ = plt.hist( targets_test.numpy(), bins=\"auto\" )\n",
    "plt.show()"
   ]
  },
  {
   "cell_type": "code",
   "execution_count": 54,
   "metadata": {},
   "outputs": [],
   "source": [
    "X_train = data_train\n",
    "y_train = targets_train"
   ]
  },
  {
   "cell_type": "code",
   "execution_count": 55,
   "metadata": {},
   "outputs": [],
   "source": [
    "X_test = data_test\n",
    "y_test = targets_test"
   ]
  },
  {
   "cell_type": "code",
   "execution_count": 56,
   "metadata": {},
   "outputs": [
    {
     "data": {
      "text/plain": [
       "50000"
      ]
     },
     "execution_count": 56,
     "metadata": {},
     "output_type": "execute_result"
    }
   ],
   "source": [
    "X_train.shape[0]"
   ]
  },
  {
   "cell_type": "code",
   "execution_count": 57,
   "metadata": {},
   "outputs": [
    {
     "data": {
      "text/plain": [
       "6"
      ]
     },
     "execution_count": 57,
     "metadata": {},
     "output_type": "execute_result"
    }
   ],
   "source": [
    "y_train[30000].item()"
   ]
  },
  {
   "cell_type": "code",
   "execution_count": 58,
   "metadata": {},
   "outputs": [
    {
     "data": {
      "text/plain": [
       "tensor([[[0.0863, 0.0824, 0.0824,  ..., 0.0980, 0.0157, 0.0157],\n",
       "         [0.0784, 0.0824, 0.0745,  ..., 0.3137, 0.2039, 0.1059],\n",
       "         [0.0706, 0.0706, 0.0667,  ..., 0.6157, 0.3922, 0.1490],\n",
       "         ...,\n",
       "         [0.1176, 0.1294, 0.1294,  ..., 0.1686, 0.2000, 0.1529],\n",
       "         [0.1373, 0.1373, 0.1490,  ..., 0.1412, 0.2235, 0.1804],\n",
       "         [0.1373, 0.1373, 0.1451,  ..., 0.1765, 0.2157, 0.1490]],\n",
       "\n",
       "        [[0.4588, 0.4627, 0.4667,  ..., 0.4784, 0.4588, 0.4941],\n",
       "         [0.4588, 0.4627, 0.4706,  ..., 0.6039, 0.5490, 0.4784],\n",
       "         [0.4510, 0.4549, 0.4627,  ..., 0.7804, 0.6000, 0.3765],\n",
       "         ...,\n",
       "         [0.1137, 0.1176, 0.1176,  ..., 0.1294, 0.1608, 0.1137],\n",
       "         [0.1216, 0.1216, 0.1216,  ..., 0.0863, 0.1686, 0.1255],\n",
       "         [0.1137, 0.1137, 0.1137,  ..., 0.1176, 0.1529, 0.0863]],\n",
       "\n",
       "        [[0.6314, 0.6392, 0.6510,  ..., 0.6941, 0.6941, 0.7412],\n",
       "         [0.6275, 0.6392, 0.6510,  ..., 0.7490, 0.7059, 0.6510],\n",
       "         [0.6196, 0.6314, 0.6431,  ..., 0.8353, 0.6706, 0.4549],\n",
       "         ...,\n",
       "         [0.0941, 0.0980, 0.0980,  ..., 0.1255, 0.1569, 0.1098],\n",
       "         [0.0784, 0.0784, 0.0824,  ..., 0.0824, 0.1647, 0.1216],\n",
       "         [0.0588, 0.0588, 0.0627,  ..., 0.1059, 0.1529, 0.0863]]])"
      ]
     },
     "execution_count": 58,
     "metadata": {},
     "output_type": "execute_result"
    }
   ],
   "source": [
    "X_train[78]"
   ]
  },
  {
   "cell_type": "code",
   "execution_count": 59,
   "metadata": {},
   "outputs": [],
   "source": [
    "CIFAR_train_list = [  ( X_train[i],  y_train[i].item() )  for i in range( X_train.shape[0]   )  ]"
   ]
  },
  {
   "cell_type": "code",
   "execution_count": 60,
   "metadata": {},
   "outputs": [],
   "source": [
    "CIFAR_test_list = [  ( X_test[i],  y_test[i].item() )  for i in range( X_test.shape[0]   )  ]"
   ]
  },
  {
   "cell_type": "code",
   "execution_count": 61,
   "metadata": {},
   "outputs": [],
   "source": [
    "batch_size = 16"
   ]
  },
  {
   "cell_type": "code",
   "execution_count": 62,
   "metadata": {},
   "outputs": [],
   "source": [
    "train_dl = torch.utils.data.DataLoader( CIFAR_train_list, batch_size=batch_size, shuffle=True  )"
   ]
  },
  {
   "cell_type": "code",
   "execution_count": 63,
   "metadata": {},
   "outputs": [],
   "source": [
    "test_dl = torch.utils.data.DataLoader( CIFAR_test_list, batch_size=10000, shuffle=True  )"
   ]
  },
  {
   "cell_type": "code",
   "execution_count": 64,
   "metadata": {},
   "outputs": [
    {
     "data": {
      "text/plain": [
       "3072"
      ]
     },
     "execution_count": 64,
     "metadata": {},
     "output_type": "execute_result"
    }
   ],
   "source": [
    "32*32*3"
   ]
  },
  {
   "cell_type": "code",
   "execution_count": 65,
   "metadata": {},
   "outputs": [],
   "source": [
    "class MLP_net(nn.Module):\n",
    "    ## init the class\n",
    "    def __init__(self):\n",
    "        super().__init__()\n",
    "        \n",
    "        self.linear1 = nn.Linear( 32*32*3 ,20)\n",
    "        self.act1    = nn.Sigmoid()\n",
    "        self.linear2 = nn.Linear(20 , 10)\n",
    "        self.act2    = nn.Softmax(dim=1)\n",
    "        \n",
    "    ## perform inference\n",
    "    def forward(self, x):\n",
    "        \n",
    "        x            = self.linear1(x)\n",
    "        x            = self.act1(x)\n",
    "        x            = self.linear2(x)\n",
    "        y_pred       = self.act2(x)\n",
    "        \n",
    "        return y_pred"
   ]
  },
  {
   "cell_type": "code",
   "execution_count": 66,
   "metadata": {},
   "outputs": [],
   "source": [
    "def training_loop( N_Epochs, model, loss_fn, opt ):\n",
    "    for epoch in range(N_Epochs):\n",
    "        for xb, yb in train_dl:\n",
    "            \n",
    "            xb = xb.view(  (16, -1 ) )\n",
    "            \n",
    "            y_pred = model(xb)\n",
    "            \n",
    "            loss = loss_fn(y_pred, yb)\n",
    "            \n",
    "            opt.zero_grad()\n",
    "            loss.backward()\n",
    "            opt.step()\n",
    "        \n",
    "        if epoch % 5 == 0:\n",
    "            print(epoch, \"loss=\", loss)"
   ]
  },
  {
   "cell_type": "code",
   "execution_count": 75,
   "metadata": {},
   "outputs": [],
   "source": [
    "N_Epochs      = 100\n",
    "learning_rate = 0.001"
   ]
  },
  {
   "cell_type": "code",
   "execution_count": 76,
   "metadata": {},
   "outputs": [],
   "source": [
    "model = MLP_net()\n",
    "\n",
    "opt = torch.optim.Adam(  model.parameters(), lr=learning_rate  )\n",
    "\n",
    "loss_fn = nn.CrossEntropyLoss()"
   ]
  },
  {
   "cell_type": "code",
   "execution_count": 81,
   "metadata": {},
   "outputs": [
    {
     "name": "stdout",
     "output_type": "stream",
     "text": [
      "0 loss= tensor(1.9549, grad_fn=<NllLossBackward0>)\n",
      "5 loss= tensor(2.0823, grad_fn=<NllLossBackward0>)\n",
      "10 loss= tensor(2.1121, grad_fn=<NllLossBackward0>)\n",
      "15 loss= tensor(1.9090, grad_fn=<NllLossBackward0>)\n",
      "20 loss= tensor(2.1489, grad_fn=<NllLossBackward0>)\n",
      "25 loss= tensor(2.2223, grad_fn=<NllLossBackward0>)\n",
      "30 loss= tensor(2.2523, grad_fn=<NllLossBackward0>)\n",
      "35 loss= tensor(1.9209, grad_fn=<NllLossBackward0>)\n",
      "40 loss= tensor(2.0295, grad_fn=<NllLossBackward0>)\n",
      "45 loss= tensor(2.0096, grad_fn=<NllLossBackward0>)\n",
      "50 loss= tensor(2.1753, grad_fn=<NllLossBackward0>)\n",
      "55 loss= tensor(1.7957, grad_fn=<NllLossBackward0>)\n",
      "60 loss= tensor(2.1945, grad_fn=<NllLossBackward0>)\n",
      "65 loss= tensor(1.9577, grad_fn=<NllLossBackward0>)\n",
      "70 loss= tensor(1.9737, grad_fn=<NllLossBackward0>)\n",
      "75 loss= tensor(2.0275, grad_fn=<NllLossBackward0>)\n",
      "80 loss= tensor(1.9707, grad_fn=<NllLossBackward0>)\n",
      "85 loss= tensor(2.1951, grad_fn=<NllLossBackward0>)\n",
      "90 loss= tensor(1.9665, grad_fn=<NllLossBackward0>)\n",
      "95 loss= tensor(2.0746, grad_fn=<NllLossBackward0>)\n"
     ]
    }
   ],
   "source": [
    "training_loop( N_Epochs, model, loss_fn, opt )"
   ]
  },
  {
   "cell_type": "code",
   "execution_count": 82,
   "metadata": {},
   "outputs": [],
   "source": [
    "def print_metrics_function(y_test, y_pred):\n",
    "    print('Accuracy: %.2f' % accuracy_score(y_test, y_pred))\n",
    "    confmat = confusion_matrix(y_true=y_test, y_pred=y_pred)\n",
    "    print(\"Confusion Matrix:\")\n",
    "    print(confmat)\n",
    "    print('Precision: %.3f' % precision_score(y_true=y_test, y_pred=y_pred, average='weighted'))\n",
    "    print('Recall: %.3f' % recall_score(y_true=y_test, y_pred=y_pred, average='weighted'))\n",
    "    print('F1-measure: %.3f' % f1_score(y_true=y_test, y_pred=y_pred, average='weighted'))"
   ]
  },
  {
   "cell_type": "code",
   "execution_count": 83,
   "metadata": {},
   "outputs": [
    {
     "name": "stdout",
     "output_type": "stream",
     "text": [
      "Accuracy: 0.05\n",
      "Confusion Matrix:\n",
      "[[135  33  21  22  38  78 166  99  49 360]\n",
      " [112  45  17  36  46 117 164 213  69 181]\n",
      " [ 90   8  66  32 146 512  33  47  41  25]\n",
      " [ 70  41  26  22  31  14 533  73  80 110]\n",
      " [ 98 140  59  32  60  64 158  71 226  92]\n",
      " [124 229  35  35  72  58 151  70 129  97]\n",
      " [ 37  10  96  54 576 149  24  16  33   5]\n",
      " [ 52  18 194 452  83  68  55  19  42  17]\n",
      " [523  48  68  30  33  49  53  36  48 112]\n",
      " [ 83  11 486 151  89  68  56  10  32  13]]\n",
      "Precision: 0.049\n",
      "Recall: 0.049\n",
      "F1-measure: 0.048\n"
     ]
    }
   ],
   "source": [
    "with torch.no_grad():\n",
    "    for x_real, y_real in test_dl:\n",
    "        \n",
    "        batch_size = x_real.shape[0]\n",
    "        \n",
    "        x_real = x_real.view(  (batch_size, -1 ) )\n",
    "        \n",
    "        y_pred = model(  x_real  )\n",
    "        \n",
    "        vals, indeces = torch.max( y_pred, dim=1  )\n",
    "        preds = indeces\n",
    "        print_metrics_function(y_real, preds)"
   ]
  },
  {
   "cell_type": "code",
   "execution_count": null,
   "metadata": {},
   "outputs": [],
   "source": []
  },
  {
   "cell_type": "code",
   "execution_count": null,
   "metadata": {},
   "outputs": [],
   "source": []
  },
  {
   "cell_type": "code",
   "execution_count": null,
   "metadata": {},
   "outputs": [],
   "source": []
  }
 ],
 "metadata": {
  "kernelspec": {
   "display_name": "Python 3",
   "language": "python",
   "name": "python3"
  },
  "language_info": {
   "codemirror_mode": {
    "name": "ipython",
    "version": 3
   },
   "file_extension": ".py",
   "mimetype": "text/x-python",
   "name": "python",
   "nbconvert_exporter": "python",
   "pygments_lexer": "ipython3",
   "version": "3.8.5"
  }
 },
 "nbformat": 4,
 "nbformat_minor": 5
}
