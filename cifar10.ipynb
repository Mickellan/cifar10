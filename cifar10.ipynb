{
 "cells": [
  {
   "cell_type": "code",
   "execution_count": 1,
   "id": "f59d596f",
   "metadata": {},
   "outputs": [],
   "source": [
    "## !pip install torchvision"
   ]
  },
  {
   "cell_type": "code",
   "execution_count": 8,
   "id": "ebf2de66",
   "metadata": {},
   "outputs": [],
   "source": [
    "##!pip install tensorflow"
   ]
  },
  {
   "cell_type": "code",
   "execution_count": null,
   "id": "ac1521af",
   "metadata": {},
   "outputs": [],
   "source": []
  },
  {
   "cell_type": "code",
   "execution_count": 9,
   "id": "81df98bc",
   "metadata": {},
   "outputs": [],
   "source": [
    "import os\n",
    "import torch\n",
    "import imageio\n",
    "import torchvision\n",
    "\n",
    "from torch.utils.data import Dataset\n",
    "\n",
    "from torchvision import transforms\n",
    "\n",
    "from sklearn.model_selection import train_test_split\n",
    "\n",
    "from PIL import Image\n",
    "\n",
    "import torchvision.transforms as T\n",
    "\n",
    "import matplotlib.pyplot as plt\n",
    "\n",
    "import torch.nn as nn\n",
    "import torch.nn.functional as F\n",
    "import torch.optim as optim"
   ]
  },
  {
   "cell_type": "code",
   "execution_count": 10,
   "id": "73ffdb24",
   "metadata": {},
   "outputs": [
    {
     "name": "stdout",
     "output_type": "stream",
     "text": [
      "Failed to detect a GPU.\n"
     ]
    }
   ],
   "source": [
    "import tensorflow as tf\n",
    "\n",
    "gpus = tf.config.list_physical_devices(\"GPU\")\n",
    "if gpus:\n",
    "    for gpu in gpus:\n",
    "        print(\"Found a GPU with the name:\", gpu)\n",
    "else:\n",
    "    print(\"Failed to detect a GPU.\")"
   ]
  },
  {
   "cell_type": "code",
   "execution_count": 11,
   "id": "18d96600",
   "metadata": {},
   "outputs": [],
   "source": [
    "from sklearn.metrics import confusion_matrix\n",
    "from sklearn.metrics import precision_score, recall_score, accuracy_score, f1_score"
   ]
  },
  {
   "cell_type": "code",
   "execution_count": 12,
   "id": "30735064",
   "metadata": {},
   "outputs": [],
   "source": [
    "raw_data_train = r'C:\\Users\\micke\\OneDrive\\Documents\\ITS 365\\CIFAR-10-images-master\\train'\n",
    "raw_data_test  = r'C:\\Users\\micke\\OneDrive\\Documents\\ITS 365\\CIFAR-10-images-master\\test'"
   ]
  },
  {
   "cell_type": "markdown",
   "id": "923ca84a",
   "metadata": {},
   "source": [
    "## Train"
   ]
  },
  {
   "cell_type": "code",
   "execution_count": 13,
   "id": "d320bcca",
   "metadata": {},
   "outputs": [],
   "source": [
    "dataset_train = []\n",
    "labels_train  = []\n",
    "targets_train = []"
   ]
  },
  {
   "cell_type": "code",
   "execution_count": 14,
   "id": "5c8193a7",
   "metadata": {},
   "outputs": [
    {
     "name": "stdout",
     "output_type": "stream",
     "text": [
      "airplane\n",
      "automobile\n",
      "bird\n",
      "cat\n",
      "deer\n",
      "dog\n",
      "frog\n",
      "horse\n",
      "ship\n",
      "truck\n"
     ]
    }
   ],
   "source": [
    "for folder in os.listdir(raw_data_train):\n",
    "    print(folder)\n",
    "    ## print( os.path.join(raw_data_train, folder) )\n",
    "    for image in os.listdir( os.path.join(raw_data_train, folder) ):\n",
    "        ## print(image)\n",
    "        if folder not in labels_train:\n",
    "            labels_train.append(folder)\n",
    "        targets_train.append( labels_train.index(folder) )\n",
    "        \n",
    "        img_arr = imageio.v2.imread(os.path.join(raw_data_train, folder, image), pilmode=\"RGB\")\n",
    "        ## resize = torchvision.transforms.Resize(size)\n",
    "        ## crop_center = torchvision.transforms.CenterCrop(size)\n",
    "\n",
    "        img = torch.from_numpy(img_arr).permute(2, 0, 1).float()\n",
    "        ## img = resize(img)\n",
    "        ## img = crop_center(img)\n",
    "        img /= 255\n",
    "        dataset_train.append(img)\n",
    "        \n",
    "     "
   ]
  },
  {
   "cell_type": "code",
   "execution_count": 15,
   "id": "6a25a965",
   "metadata": {},
   "outputs": [
    {
     "data": {
      "text/plain": [
       "['airplane',\n",
       " 'automobile',\n",
       " 'bird',\n",
       " 'cat',\n",
       " 'deer',\n",
       " 'dog',\n",
       " 'frog',\n",
       " 'horse',\n",
       " 'ship',\n",
       " 'truck']"
      ]
     },
     "execution_count": 15,
     "metadata": {},
     "output_type": "execute_result"
    }
   ],
   "source": [
    "labels_train"
   ]
  },
  {
   "cell_type": "code",
   "execution_count": 16,
   "id": "a5e6ebe6",
   "metadata": {},
   "outputs": [
    {
     "data": {
      "text/plain": [
       "50000"
      ]
     },
     "execution_count": 16,
     "metadata": {},
     "output_type": "execute_result"
    }
   ],
   "source": [
    "len( targets_train )"
   ]
  },
  {
   "cell_type": "code",
   "execution_count": 17,
   "id": "0b25d0f4",
   "metadata": {},
   "outputs": [
    {
     "data": {
      "text/plain": [
       "torch.Size([3, 32, 32])"
      ]
     },
     "execution_count": 17,
     "metadata": {},
     "output_type": "execute_result"
    }
   ],
   "source": [
    "dataset_train[1].shape"
   ]
  },
  {
   "cell_type": "code",
   "execution_count": 18,
   "id": "3bcc8f4f",
   "metadata": {},
   "outputs": [],
   "source": [
    "data_train    = torch.stack(  dataset_train )\n",
    "targets_train = torch.Tensor( targets_train ).type( torch.LongTensor )\n",
    "\n",
    "torch.save( (data_train, targets_train, labels_train) , \"CIFAR_train_dataset\")\n",
    "\n",
    "## data1, targets1, labels1 = torch.load(dataset_save)"
   ]
  },
  {
   "cell_type": "code",
   "execution_count": 19,
   "id": "4274b74f",
   "metadata": {},
   "outputs": [
    {
     "data": {
      "text/plain": [
       "torch.Size([50000, 3, 32, 32])"
      ]
     },
     "execution_count": 19,
     "metadata": {},
     "output_type": "execute_result"
    }
   ],
   "source": [
    "data_train.shape\n",
    "              "
   ]
  },
  {
   "cell_type": "code",
   "execution_count": 20,
   "id": "9920a54d",
   "metadata": {},
   "outputs": [
    {
     "data": {
      "text/plain": [
       "torch.Size([50000])"
      ]
     },
     "execution_count": 20,
     "metadata": {},
     "output_type": "execute_result"
    }
   ],
   "source": [
    "targets_train.shape"
   ]
  },
  {
   "cell_type": "code",
   "execution_count": 21,
   "id": "cc0dde56",
   "metadata": {},
   "outputs": [
    {
     "data": {
      "text/plain": [
       "torch.Size([3, 32, 32])"
      ]
     },
     "execution_count": 21,
     "metadata": {},
     "output_type": "execute_result"
    }
   ],
   "source": [
    "data_train[2].shape"
   ]
  },
  {
   "cell_type": "code",
   "execution_count": 22,
   "id": "e3a1492a",
   "metadata": {
    "scrolled": true
   },
   "outputs": [
    {
     "data": {
      "text/plain": [
       "tensor([5, 5, 5, 5, 5, 5, 5, 5, 5, 5, 5, 5, 5, 5, 5, 5, 5, 5, 5, 5, 5, 5, 5, 5,\n",
       "        5, 5, 5, 5, 5, 5, 5, 5, 5, 5, 5, 5, 5, 5, 5, 5, 5, 5, 5, 5, 5, 5, 5, 5,\n",
       "        5, 5, 5, 5, 5, 5, 5, 5, 5, 5, 5, 5, 5, 5, 5, 5, 5, 5, 5, 5, 5, 5, 5, 5,\n",
       "        5, 5, 5, 5, 5, 5, 5, 5, 5, 5, 5, 5, 5, 5, 5, 5, 5, 5, 5, 5, 5, 5, 5, 5,\n",
       "        5, 5, 5, 5, 5, 5, 5, 5, 5, 5, 5, 5, 5, 5, 5, 5, 5, 5, 5, 5, 5, 5, 5, 5,\n",
       "        5, 5, 5, 5, 5, 5, 5, 5, 5, 5, 5, 5, 5, 5, 5, 5, 5, 5, 5, 5, 5, 5, 5, 5,\n",
       "        5, 5, 5, 5, 5, 5, 5, 5, 5, 5, 5, 5, 5, 5, 5, 5, 5, 5, 5, 5, 5, 5, 5, 5,\n",
       "        5, 5, 5, 5, 5, 5, 5, 5, 5, 5, 5, 5, 5, 5, 5, 5, 5, 5, 5, 5, 5, 5, 5, 5,\n",
       "        5, 5, 5, 5, 5, 5, 5, 5, 5, 5, 5, 5, 5, 5, 5, 5, 5, 5, 5, 5, 5, 5, 5, 5,\n",
       "        5, 5, 5, 5, 5, 5, 5, 5, 5, 5, 5, 5, 5, 5, 5, 5, 5, 5, 5, 5, 5, 5, 5, 5,\n",
       "        5, 5, 5, 5, 5, 5, 5, 5, 5, 5, 5, 5, 5, 5, 5, 5, 5, 5, 5, 5, 5, 5, 5, 5,\n",
       "        5, 5, 5, 5, 5, 5, 5, 5, 5, 5, 5, 5, 5, 5, 5, 5, 5, 5, 5, 5, 5, 5, 5, 5,\n",
       "        5, 5, 5, 5, 5, 5, 5, 5, 5, 5, 5, 5, 5, 5, 5, 5, 5, 5, 5, 5, 5, 5, 5, 5,\n",
       "        5, 5, 5, 5, 5, 5, 5, 5, 5, 5, 5, 5, 5, 5, 5, 5, 5, 5, 5, 5, 5, 5, 5, 5,\n",
       "        5, 5, 5, 5, 5, 5, 5, 5, 5, 5, 5, 5, 5, 5, 5, 5, 5, 5, 5, 5, 5, 5, 5, 5,\n",
       "        5, 5, 5, 5, 5, 5, 5, 5, 5, 5, 5, 5, 5, 5, 5, 5, 5, 5, 5, 5, 5, 5, 5, 5,\n",
       "        5, 5, 5, 5, 5, 5, 5, 5, 5, 5, 5, 5, 5, 5, 5, 5, 5, 5, 5, 5, 5, 5, 5, 5,\n",
       "        5, 5, 5, 5, 5, 5, 5, 5, 5, 5, 5, 5, 5, 5, 5, 5, 5, 5, 5, 5, 5, 5, 5, 5,\n",
       "        5, 5, 5, 5, 5, 5, 5, 5, 5, 5, 5, 5, 5, 5, 5, 5, 5, 5, 5, 5, 5, 5, 5, 5,\n",
       "        5, 5, 5, 5, 5, 5, 5, 5, 5, 5, 5, 5, 5, 5, 5, 5, 5, 5, 5, 5, 5, 5, 5, 5,\n",
       "        5, 5, 5, 5, 5, 5, 5, 5, 5, 5, 5, 5, 5, 5, 5, 5, 5, 5, 5, 5, 5, 5, 5, 5,\n",
       "        5, 5, 5, 5, 5, 5, 5, 5, 5, 5, 5, 5, 5, 5, 5, 5, 5, 5, 5, 5, 5, 5, 5, 5,\n",
       "        5, 5, 5, 5, 5, 5, 5, 5, 5, 5, 5, 5, 5, 5, 5, 5, 5, 5, 5, 5, 5, 5, 5, 5,\n",
       "        5, 5, 5, 5, 5, 5, 5, 5, 5, 5, 5, 5, 5, 5, 5, 5, 5, 5, 5, 5, 5, 5, 5, 5,\n",
       "        5, 5, 5, 5, 5, 5, 5, 5, 5, 5, 5, 5, 5, 5, 5, 5, 5, 5, 5, 5, 5, 5, 5, 5,\n",
       "        5, 5, 5, 5, 5, 5, 5, 5, 5, 5, 5, 5, 5, 5, 5, 5, 5, 5, 5, 5, 5, 5, 5, 5,\n",
       "        5, 5, 5, 5, 5, 5, 5, 5, 5, 5, 5, 5, 5, 5, 5, 5, 5, 5, 5, 5, 5, 5, 5, 5,\n",
       "        5, 5, 5, 5, 5, 5, 5, 5, 5, 5, 5, 5, 5, 5, 5, 5, 5, 5, 5, 5, 5, 5, 5, 5,\n",
       "        5, 5, 5, 5, 5, 5, 5, 5, 5, 5, 5, 5, 5, 5, 5, 5, 5, 5, 5, 5, 5, 5, 5, 5,\n",
       "        5, 5, 5, 5, 5, 5, 5, 5, 5, 5, 5, 5, 5, 5, 5, 5, 5, 5, 5, 5, 5, 5, 5, 5,\n",
       "        5, 5, 5, 5, 5, 5, 5, 5, 5, 5, 5, 5, 5, 5, 5, 5, 5, 5, 5, 5, 5, 5, 5, 5,\n",
       "        5, 5, 5, 5, 5, 5, 5, 5, 5, 5, 5, 5, 5, 5, 5, 5, 5, 5, 5, 5, 5, 5, 5, 5,\n",
       "        5, 5, 5, 5, 5, 5, 5, 5, 5, 5, 5, 5, 5, 5, 5, 5, 5, 5, 5, 5, 5, 5, 5, 5,\n",
       "        5, 5, 5, 5, 5, 5, 5, 5, 5, 5, 5, 5, 5, 5, 5, 5, 5, 5, 5, 5, 5, 5, 5, 5,\n",
       "        5, 5, 5, 5, 5, 5, 5, 5, 5, 5, 5, 5, 5, 5, 5, 5, 5, 5, 5, 5, 5, 5, 5, 5,\n",
       "        5, 5, 5, 5, 5, 5, 5, 5, 5, 5, 5, 5, 5, 5, 5, 5, 5, 5, 5, 5, 5, 5, 5, 5,\n",
       "        5, 5, 5, 5, 5, 5, 5, 5, 5, 5, 5, 5, 5, 5, 5, 5, 5, 5, 5, 5, 5, 5, 5, 5,\n",
       "        5, 5, 5, 5, 5, 5, 5, 5, 5, 5, 5, 5, 5, 5, 5, 5, 5, 5, 5, 5, 5, 5, 5, 5,\n",
       "        5, 5, 5, 5, 5, 5, 5, 5, 5, 5, 5, 5, 5, 5, 5, 5, 5, 5, 5, 5, 5, 5, 5, 5,\n",
       "        5, 5, 5, 5, 5, 5, 5, 5, 5, 5, 5, 5, 5, 5, 5, 5, 5, 5, 5, 5, 5, 5, 5, 5,\n",
       "        5, 5, 5, 5, 5, 5, 5, 5, 5, 5, 5, 5, 5, 5, 5, 5, 5, 5, 5, 5, 5, 5, 5, 5,\n",
       "        5, 5, 5, 5, 5, 5, 5, 5, 5, 5, 5, 5, 5, 5, 5, 5])"
      ]
     },
     "execution_count": 22,
     "metadata": {},
     "output_type": "execute_result"
    }
   ],
   "source": [
    "targets_train[25000:26000]"
   ]
  },
  {
   "cell_type": "code",
   "execution_count": 23,
   "id": "8377cee9",
   "metadata": {},
   "outputs": [
    {
     "data": {
      "text/plain": [
       "tensor([[[1.0000, 1.0000, 1.0000,  ..., 0.9569, 0.9569, 0.9569],\n",
       "         [1.0000, 1.0000, 1.0000,  ..., 0.9647, 0.9647, 0.9647],\n",
       "         [1.0000, 1.0000, 1.0000,  ..., 0.9725, 0.9686, 0.9686],\n",
       "         ...,\n",
       "         [0.4667, 0.4745, 0.4706,  ..., 0.5137, 0.5137, 0.5176],\n",
       "         [0.5098, 0.5137, 0.5020,  ..., 0.5490, 0.5490, 0.5490],\n",
       "         [0.4745, 0.4824, 0.4824,  ..., 0.5647, 0.5647, 0.5608]],\n",
       "\n",
       "        [[0.9843, 0.9843, 0.9843,  ..., 0.9922, 0.9922, 0.9922],\n",
       "         [0.9882, 0.9922, 0.9922,  ..., 1.0000, 1.0000, 1.0000],\n",
       "         [0.9961, 0.9961, 0.9922,  ..., 1.0000, 1.0000, 1.0000],\n",
       "         ...,\n",
       "         [0.3882, 0.3961, 0.3922,  ..., 0.4235, 0.4196, 0.4235],\n",
       "         [0.4275, 0.4314, 0.4196,  ..., 0.4353, 0.4353, 0.4353],\n",
       "         [0.3922, 0.4000, 0.3882,  ..., 0.4471, 0.4471, 0.4431]],\n",
       "\n",
       "        [[0.9843, 0.9843, 0.9843,  ..., 0.9882, 0.9882, 0.9882],\n",
       "         [0.9882, 0.9882, 0.9882,  ..., 0.9961, 0.9961, 0.9961],\n",
       "         [0.9882, 0.9882, 0.9961,  ..., 1.0000, 1.0000, 1.0000],\n",
       "         ...,\n",
       "         [0.2902, 0.2980, 0.2941,  ..., 0.3020, 0.3098, 0.3137],\n",
       "         [0.3216, 0.3255, 0.3137,  ..., 0.3098, 0.3098, 0.3098],\n",
       "         [0.2863, 0.2941, 0.2863,  ..., 0.3059, 0.3059, 0.3020]]])"
      ]
     },
     "execution_count": 23,
     "metadata": {},
     "output_type": "execute_result"
    }
   ],
   "source": [
    "img_tr = data_train[1000]\n",
    "img_tr"
   ]
  },
  {
   "cell_type": "code",
   "execution_count": 24,
   "id": "373703c2",
   "metadata": {},
   "outputs": [],
   "source": [
    "transform = T.ToPILImage()"
   ]
  },
  {
   "cell_type": "code",
   "execution_count": 25,
   "id": "f442c820",
   "metadata": {},
   "outputs": [],
   "source": [
    "img = transform(  img_tr  )"
   ]
  },
  {
   "cell_type": "code",
   "execution_count": 26,
   "id": "0a971d81",
   "metadata": {},
   "outputs": [
    {
     "data": {
      "image/png": "[encoded data removed]",
      "text/plain": [
       "<PIL.Image.Image image mode=RGB size=32x32>"
      ]
     },
     "execution_count": 26,
     "metadata": {},
     "output_type": "execute_result"
    }
   ],
   "source": [
    "img"
   ]
  },
  {
   "cell_type": "code",
   "execution_count": 27,
   "id": "d79b6fef",
   "metadata": {},
   "outputs": [
    {
     "data": {
      "image/png": "[encoded data removed]",
      "text/plain": [
       "<Figure size 640x480 with 1 Axes>"
      ]
     },
     "metadata": {},
     "output_type": "display_data"
    }
   ],
   "source": [
    "_ = plt.hist( targets_train.numpy(), bins=\"auto\" )\n",
    "plt.show()"
   ]
  },
  {
   "cell_type": "markdown",
   "id": "7a150e46",
   "metadata": {},
   "source": [
    "## test data"
   ]
  },
  {
   "cell_type": "code",
   "execution_count": 28,
   "id": "01a46f1b",
   "metadata": {},
   "outputs": [],
   "source": [
    "dataset_test = []\n",
    "labels_test  = []\n",
    "targets_test = []"
   ]
  },
  {
   "cell_type": "code",
   "execution_count": 29,
   "id": "bfe88a09",
   "metadata": {},
   "outputs": [
    {
     "name": "stdout",
     "output_type": "stream",
     "text": [
      "airplane\n",
      "automobile\n",
      "bird\n",
      "cat\n",
      "deer\n",
      "dog\n",
      "frog\n",
      "horse\n",
      "ship\n",
      "truck\n"
     ]
    }
   ],
   "source": [
    "for folder in os.listdir(raw_data_test):\n",
    "    print(folder)\n",
    "    ## print( os.path.join(raw_data_train, folder) )\n",
    "    for image in os.listdir( os.path.join(raw_data_test, folder) ):\n",
    "        ## print(image)\n",
    "        if folder not in labels_test:\n",
    "            labels_test.append(folder)\n",
    "        targets_test.append( labels_test.index(folder) )\n",
    "        \n",
    "        img_arr = imageio.v2.imread(os.path.join(raw_data_test, folder, image), pilmode=\"RGB\")\n",
    "        ## resize = torchvision.transforms.Resize(size)\n",
    "        ## crop_center = torchvision.transforms.CenterCrop(size)\n",
    "\n",
    "        img = torch.from_numpy(img_arr).permute(2, 0, 1).float()\n",
    "        ## img = resize(img)\n",
    "        ## img = crop_center(img)\n",
    "        img /= 255\n",
    "        dataset_test.append(img)\n",
    "        "
   ]
  },
  {
   "cell_type": "code",
   "execution_count": 30,
   "id": "ff1f0ea2",
   "metadata": {
    "scrolled": true
   },
   "outputs": [],
   "source": [
    "data_test    = torch.stack(  dataset_test )\n",
    "targets_test = torch.Tensor( targets_test ).type( torch.LongTensor )\n",
    "\n",
    "torch.save( (data_test, targets_test, labels_test) , \"CIFAR_train_dataset_test\")"
   ]
  },
  {
   "cell_type": "code",
   "execution_count": 31,
   "id": "012e6161",
   "metadata": {},
   "outputs": [
    {
     "data": {
      "text/plain": [
       "torch.Size([10000, 3, 32, 32])"
      ]
     },
     "execution_count": 31,
     "metadata": {},
     "output_type": "execute_result"
    }
   ],
   "source": [
    "data_test.shape"
   ]
  },
  {
   "cell_type": "code",
   "execution_count": 32,
   "id": "1cca1147",
   "metadata": {},
   "outputs": [
    {
     "data": {
      "text/plain": [
       "torch.Size([10000])"
      ]
     },
     "execution_count": 32,
     "metadata": {},
     "output_type": "execute_result"
    }
   ],
   "source": [
    "targets_test.shape"
   ]
  },
  {
   "cell_type": "code",
   "execution_count": 33,
   "id": "aaa28f8c",
   "metadata": {
    "scrolled": true
   },
   "outputs": [
    {
     "data": {
      "image/png": "[encoded data removed]",
      "text/plain": [
       "<Figure size 640x480 with 1 Axes>"
      ]
     },
     "metadata": {},
     "output_type": "display_data"
    }
   ],
   "source": [
    "_ = plt.hist( targets_test.numpy(), bins=\"auto\" )\n",
    "plt.show()"
   ]
  },
  {
   "cell_type": "code",
   "execution_count": 34,
   "id": "fe119179",
   "metadata": {},
   "outputs": [],
   "source": [
    "\n",
    "X_train = data_train\n",
    "y_train = targets_train\n"
   ]
  },
  {
   "cell_type": "code",
   "execution_count": 35,
   "id": "017343c0",
   "metadata": {},
   "outputs": [],
   "source": [
    "X_test = data_test\n",
    "y_test = targets_test"
   ]
  },
  {
   "cell_type": "code",
   "execution_count": 36,
   "id": "f748e9b2",
   "metadata": {},
   "outputs": [
    {
     "data": {
      "text/plain": [
       "50000"
      ]
     },
     "execution_count": 36,
     "metadata": {},
     "output_type": "execute_result"
    }
   ],
   "source": [
    "X_train.shape[0]"
   ]
  },
  {
   "cell_type": "code",
   "execution_count": 37,
   "id": "4053c3fa",
   "metadata": {},
   "outputs": [
    {
     "data": {
      "text/plain": [
       "6"
      ]
     },
     "execution_count": 37,
     "metadata": {},
     "output_type": "execute_result"
    }
   ],
   "source": [
    "y_train[30000].item()"
   ]
  },
  {
   "cell_type": "code",
   "execution_count": 38,
   "id": "78bd7df5",
   "metadata": {},
   "outputs": [],
   "source": [
    "CIFAR_train_list = [(X_train[i], y_train[i].item()) for i in range(X_train.shape[0])]"
   ]
  },
  {
   "cell_type": "code",
   "execution_count": 39,
   "id": "ae037aa1",
   "metadata": {},
   "outputs": [],
   "source": [
    "CIFAR_test_list = [(X_test[i], y_test[i].item()) for i in range(X_test.shape[0])]"
   ]
  },
  {
   "cell_type": "markdown",
   "id": "f3a75e21",
   "metadata": {},
   "source": [
    "## data loaders"
   ]
  },
  {
   "cell_type": "code",
   "execution_count": 40,
   "id": "796242b5",
   "metadata": {},
   "outputs": [],
   "source": [
    "batch_size = 16"
   ]
  },
  {
   "cell_type": "code",
   "execution_count": 41,
   "id": "0a05da30",
   "metadata": {},
   "outputs": [],
   "source": [
    "train_dl = torch.utils.data.DataLoader( CIFAR_train_list, batch_size =batch_size, shuffle = True )"
   ]
  },
  {
   "cell_type": "code",
   "execution_count": 42,
   "id": "dcb35dcf",
   "metadata": {},
   "outputs": [],
   "source": [
    "test_dl = torch.utils.data.DataLoader( CIFAR_test_list, batch_size = 10000, shuffle = True )"
   ]
  },
  {
   "cell_type": "markdown",
   "id": "f0906bee",
   "metadata": {},
   "source": [
    "## architectures "
   ]
  },
  {
   "cell_type": "code",
   "execution_count": 43,
   "id": "033624ec",
   "metadata": {},
   "outputs": [
    {
     "data": {
      "text/plain": [
       "3072"
      ]
     },
     "execution_count": 43,
     "metadata": {},
     "output_type": "execute_result"
    }
   ],
   "source": [
    "32*32*3"
   ]
  },
  {
   "cell_type": "code",
   "execution_count": 75,
   "id": "ea6833b1",
   "metadata": {},
   "outputs": [],
   "source": [
    "import torch.nn as nn\n",
    "\n",
    "class DL_Net(nn.Module): \n",
    "    ## init the class\n",
    "    def __init__(self):\n",
    "        super().__init__()\n",
    "        \n",
    "        self.linear1 = nn.Linear(32*32*3, 256)   # Increased units for better representation\n",
    "        self.bn1 = nn.BatchNorm1d(256)           # Batch Normalization\n",
    "        \n",
    "        self.linear2 = nn.Linear(256, 128)\n",
    "        self.bn2 = nn.BatchNorm1d(128)\n",
    "        \n",
    "        self.linear3 = nn.Linear(128, 64)\n",
    "        self.bn3 = nn.BatchNorm1d(64)\n",
    "        \n",
    "        self.linear4 = nn.Linear(64, 10)         # Output layer\n",
    "        \n",
    "        ## Softmax activation for multi-class classification (applied to output layer)\n",
    "        self.softmax = nn.Softmax(dim=1)\n",
    "        \n",
    "        ## Dropout layer for regularization\n",
    "        self.dropout = nn.Dropout(0.25)\n",
    "        \n",
    "    ## perform inference\n",
    "    def forward(self, x):\n",
    "        x = self.linear1(x)\n",
    "        x = self.bn1(x)\n",
    "        x = nn.functional.relu(x)\n",
    "        x = self.dropout(x)\n",
    "        \n",
    "        x = self.linear2(x)\n",
    "        x = self.bn2(x)\n",
    "        x = nn.functional.relu(x)\n",
    "        x = self.dropout(x)\n",
    "        \n",
    "        x = self.linear3(x)\n",
    "        x = self.bn3(x)\n",
    "        x = nn.functional.relu(x)\n",
    "        x = self.dropout(x)\n",
    "        \n",
    "        x = self.linear4(x)\n",
    "        y_pred = self.softmax(x)  # Softmax activation applied to output layer\n",
    "        \n",
    "        return y_pred"
   ]
  },
  {
   "cell_type": "code",
   "execution_count": 76,
   "id": "7de47a41",
   "metadata": {},
   "outputs": [],
   "source": [
    "\n",
    "def training_loop( N_Epochs, model, loss_fn, opt):\n",
    "    for epoch in range(N_Epochs):\n",
    "        for xb, yb in train_dl:\n",
    "            \n",
    "            xb = xb.view( (16, -1) )\n",
    "            \n",
    "            y_pred = model(xb)\n",
    "            \n",
    "            loss = loss_fn(y_pred, yb)\n",
    "            \n",
    "            opt.zero_grad()\n",
    "            loss.backward()\n",
    "            opt.step()\n",
    "            \n",
    "        if epoch % 5 == 0:\n",
    "            print(epoch, \"loss=\", loss)\n"
   ]
  },
  {
   "cell_type": "markdown",
   "id": "19c5e6f5",
   "metadata": {},
   "source": [
    "## Core Functions"
   ]
  },
  {
   "cell_type": "code",
   "execution_count": 77,
   "id": "1006acb5",
   "metadata": {},
   "outputs": [],
   "source": [
    "\n",
    "N_Epochs = 150\n",
    "learning_rate = .001\n"
   ]
  },
  {
   "cell_type": "code",
   "execution_count": 78,
   "id": "f882b698",
   "metadata": {},
   "outputs": [
    {
     "name": "stdout",
     "output_type": "stream",
     "text": [
      "3125\n"
     ]
    }
   ],
   "source": [
    "print(len(train_dl))"
   ]
  },
  {
   "cell_type": "code",
   "execution_count": null,
   "id": "43a9c8e8",
   "metadata": {},
   "outputs": [],
   "source": []
  },
  {
   "cell_type": "code",
   "execution_count": 79,
   "id": "17530e35",
   "metadata": {},
   "outputs": [],
   "source": [
    "model = DL_Net()\n",
    "\n",
    "opt = torch.optim.Adam( model.parameters(), lr=learning_rate, )\n",
    "\n",
    "loss_fn = nn.CrossEntropyLoss()"
   ]
  },
  {
   "cell_type": "code",
   "execution_count": 80,
   "id": "8cfd8140",
   "metadata": {
    "scrolled": true
   },
   "outputs": [
    {
     "name": "stdout",
     "output_type": "stream",
     "text": [
      "0 loss= tensor(2.0872, grad_fn=<NllLossBackward0>)\n",
      "5 loss= tensor(1.9513, grad_fn=<NllLossBackward0>)\n",
      "10 loss= tensor(1.9592, grad_fn=<NllLossBackward0>)\n",
      "15 loss= tensor(1.9776, grad_fn=<NllLossBackward0>)\n",
      "20 loss= tensor(1.8650, grad_fn=<NllLossBackward0>)\n",
      "25 loss= tensor(1.9723, grad_fn=<NllLossBackward0>)\n",
      "30 loss= tensor(2.1425, grad_fn=<NllLossBackward0>)\n",
      "35 loss= tensor(1.9074, grad_fn=<NllLossBackward0>)\n",
      "40 loss= tensor(1.8998, grad_fn=<NllLossBackward0>)\n",
      "45 loss= tensor(1.8935, grad_fn=<NllLossBackward0>)\n",
      "50 loss= tensor(1.6611, grad_fn=<NllLossBackward0>)\n",
      "55 loss= tensor(1.9879, grad_fn=<NllLossBackward0>)\n",
      "60 loss= tensor(1.8694, grad_fn=<NllLossBackward0>)\n",
      "65 loss= tensor(1.8675, grad_fn=<NllLossBackward0>)\n",
      "70 loss= tensor(2.0629, grad_fn=<NllLossBackward0>)\n",
      "75 loss= tensor(2.0057, grad_fn=<NllLossBackward0>)\n",
      "80 loss= tensor(1.8717, grad_fn=<NllLossBackward0>)\n",
      "85 loss= tensor(2.0226, grad_fn=<NllLossBackward0>)\n",
      "90 loss= tensor(1.8931, grad_fn=<NllLossBackward0>)\n",
      "95 loss= tensor(2.0525, grad_fn=<NllLossBackward0>)\n",
      "100 loss= tensor(1.6532, grad_fn=<NllLossBackward0>)\n",
      "105 loss= tensor(2.1058, grad_fn=<NllLossBackward0>)\n",
      "110 loss= tensor(1.8329, grad_fn=<NllLossBackward0>)\n",
      "115 loss= tensor(2.1553, grad_fn=<NllLossBackward0>)\n",
      "120 loss= tensor(1.8461, grad_fn=<NllLossBackward0>)\n",
      "125 loss= tensor(1.9588, grad_fn=<NllLossBackward0>)\n",
      "130 loss= tensor(1.8985, grad_fn=<NllLossBackward0>)\n",
      "135 loss= tensor(1.8395, grad_fn=<NllLossBackward0>)\n",
      "140 loss= tensor(1.9584, grad_fn=<NllLossBackward0>)\n",
      "145 loss= tensor(1.8328, grad_fn=<NllLossBackward0>)\n"
     ]
    }
   ],
   "source": [
    "\n",
    "training_loop( N_Epochs, model, loss_fn, opt )\n"
   ]
  },
  {
   "cell_type": "code",
   "execution_count": 81,
   "id": "84757d0b",
   "metadata": {},
   "outputs": [],
   "source": [
    "def print_metrics_function(y_test, y_pred):\n",
    "    print('Accuracy: %.2f' % accuracy_score(y_test, y_pred))\n",
    "    confmat = confusion_matrix(y_true = y_test, y_pred = y_pred)\n",
    "    print(\"Confusion Matrix:\")\n",
    "    print(confmat)\n",
    "    print('Precision: %.3f' % precision_score(y_true = y_test, y_pred = y_pred, average='weighted'))\n",
    "    print('Recall: %.3f' % recall_score(y_true = y_test, y_pred = y_pred, average='weighted'))\n",
    "    print('F1-Measure: %.3f' % f1_score(y_true = y_test, y_pred = y_pred, average='weighted'))"
   ]
  },
  {
   "cell_type": "code",
   "execution_count": 82,
   "id": "bb585a7d",
   "metadata": {},
   "outputs": [
    {
     "name": "stdout",
     "output_type": "stream",
     "text": [
      "Accuracy: 0.51\n",
      "Confusion Matrix:\n",
      "[[560  43  73  24  34  16  19  30 138  63]\n",
      " [ 35 625  11  33  16  17  20  22  65 156]\n",
      " [ 75  23 398 104 133  70  98  56  15  28]\n",
      " [ 39  29  93 331  58 198 131  57  22  42]\n",
      " [ 47  12 146  82 424  36 124  83  31  15]\n",
      " [ 27  16  85 230  67 389  79  67  16  24]\n",
      " [  3  13  95  94  75  52 621  15  13  19]\n",
      " [ 27  17  41  76  84  78  35 573  17  52]\n",
      " [ 85  69  20  36  32  19  14  15 648  62]\n",
      " [ 27 172  13  45  13  24  32  51  67 556]]\n",
      "Precision: 0.512\n",
      "Recall: 0.512\n",
      "F1-Measure: 0.512\n"
     ]
    }
   ],
   "source": [
    "with torch.no_grad():\n",
    "    for x_real, y_real in test_dl:\n",
    "        batch_size = x_real.shape[0]\n",
    "\n",
    "        x_real = x_real.view((batch_size,-1))\n",
    "\n",
    "        y_pred = model(x_real)\n",
    "        vals, indeces = torch.max(y_pred, dim=1)\n",
    "        preds = indeces\n",
    "        print_metrics_function(y_real, preds)"
   ]
  },
  {
   "cell_type": "code",
   "execution_count": null,
   "id": "26d84516",
   "metadata": {},
   "outputs": [],
   "source": []
  },
  {
   "cell_type": "code",
   "execution_count": null,
   "id": "b547661e",
   "metadata": {},
   "outputs": [],
   "source": []
  },
  {
   "cell_type": "code",
   "execution_count": 83,
   "id": "3e7fc8dd",
   "metadata": {},
   "outputs": [
    {
     "data": {
      "text/plain": [
       "torch.Size([3072])"
      ]
     },
     "execution_count": 83,
     "metadata": {},
     "output_type": "execute_result"
    }
   ],
   "source": [
    "rc = data_train[4].view((-1))\n",
    "rc.shape"
   ]
  },
  {
   "cell_type": "code",
   "execution_count": 84,
   "id": "046c0faf",
   "metadata": {},
   "outputs": [
    {
     "data": {
      "text/plain": [
       "torch.Size([1, 3072])"
      ]
     },
     "execution_count": 84,
     "metadata": {},
     "output_type": "execute_result"
    }
   ],
   "source": [
    "rc = torch.unsqueeze(rc, dim=0)\n",
    "rc.shape"
   ]
  },
  {
   "cell_type": "code",
   "execution_count": 87,
   "id": "70b13a79",
   "metadata": {},
   "outputs": [
    {
     "data": {
      "text/plain": [
       "DL_Net(\n",
       "  (linear1): Linear(in_features=3072, out_features=256, bias=True)\n",
       "  (bn1): BatchNorm1d(256, eps=1e-05, momentum=0.1, affine=True, track_running_stats=True)\n",
       "  (linear2): Linear(in_features=256, out_features=128, bias=True)\n",
       "  (bn2): BatchNorm1d(128, eps=1e-05, momentum=0.1, affine=True, track_running_stats=True)\n",
       "  (linear3): Linear(in_features=128, out_features=64, bias=True)\n",
       "  (bn3): BatchNorm1d(64, eps=1e-05, momentum=0.1, affine=True, track_running_stats=True)\n",
       "  (linear4): Linear(in_features=64, out_features=10, bias=True)\n",
       "  (softmax): Softmax(dim=1)\n",
       "  (dropout): Dropout(p=0.25, inplace=False)\n",
       ")"
      ]
     },
     "execution_count": 87,
     "metadata": {},
     "output_type": "execute_result"
    }
   ],
   "source": [
    "model.eval()"
   ]
  },
  {
   "cell_type": "code",
   "execution_count": 88,
   "id": "96bec79a",
   "metadata": {
    "scrolled": true
   },
   "outputs": [],
   "source": [
    "\n",
    "example_label = model( rc )\n"
   ]
  },
  {
   "cell_type": "code",
   "execution_count": 89,
   "id": "ba56feb1",
   "metadata": {},
   "outputs": [
    {
     "data": {
      "text/plain": [
       "tensor([[9.9997e-01, 2.3897e-07, 4.4034e-08, 2.9986e-14, 1.9597e-09, 1.9303e-16,\n",
       "         2.5061e-12, 4.3056e-13, 2.8581e-05, 4.5572e-17]],\n",
       "       grad_fn=<SoftmaxBackward0>)"
      ]
     },
     "execution_count": 89,
     "metadata": {},
     "output_type": "execute_result"
    }
   ],
   "source": [
    "example_label "
   ]
  },
  {
   "cell_type": "code",
   "execution_count": null,
   "id": "e02f34e7",
   "metadata": {},
   "outputs": [],
   "source": []
  },
  {
   "cell_type": "code",
   "execution_count": null,
   "id": "9af793bf",
   "metadata": {},
   "outputs": [],
   "source": []
  },
  {
   "cell_type": "code",
   "execution_count": null,
   "id": "1ed2c08e",
   "metadata": {},
   "outputs": [],
   "source": []
  },
  {
   "cell_type": "code",
   "execution_count": null,
   "id": "a7206d0d",
   "metadata": {},
   "outputs": [],
   "source": []
  },
  {
   "cell_type": "code",
   "execution_count": null,
   "id": "2d1f5555",
   "metadata": {},
   "outputs": [],
   "source": []
  }
 ],
 "metadata": {
  "kernelspec": {
   "display_name": "Python 3 (ipykernel)",
   "language": "python",
   "name": "python3"
  },
  "language_info": {
   "codemirror_mode": {
    "name": "ipython",
    "version": 3
   },
   "file_extension": ".py",
   "mimetype": "text/x-python",
   "name": "python",
   "nbconvert_exporter": "python",
   "pygments_lexer": "ipython3",
   "version": "3.11.5"
  }
 },
 "nbformat": 4,
 "nbformat_minor": 5
}
