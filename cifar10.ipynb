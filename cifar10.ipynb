{
 "cells": [
  {
   "cell_type": "code",
   "execution_count": null,
   "id": "f59d596f",
   "metadata": {},
   "outputs": [],
   "source": [
    "import os\n",
    "import torch\n",
    "import imageio\n",
    "import torchvision\n",
    "\n",
    "from torch.utils.data import Dataset\n",
    "\n",
    "from torchvision import transforms\n",
    "\n",
    "from sklearn.model_selection import train_test_split"
   ]
  },
  {
   "cell_type": "code",
   "execution_count": null,
   "id": "30735064",
   "metadata": {},
   "outputs": [],
   "source": [
    "raw_data_train = '/home/rcalix/Desktop/CIFAR-10-images-master/train/'\n",
    "raw_data_test  = '/home/rcalix/Desktop/CIFAR-10-images-master/test/'"
   ]
  },
  {
   "cell_type": "markdown",
   "id": "923ca84a",
   "metadata": {},
   "source": [
    "## Train"
   ]
  },
  {
   "cell_type": "code",
   "execution_count": null,
   "id": "d320bcca",
   "metadata": {},
   "outputs": [],
   "source": [
    "dataset_train = []\n",
    "labels_train  = []\n",
    "targets_train = []"
   ]
  },
  {
   "cell_type": "code",
   "execution_count": null,
   "id": "5c8193a7",
   "metadata": {},
   "outputs": [],
   "source": [
    "for folder in os.listdir(raw_data_train):\n",
    "    print(folder)\n",
    "    ## print( os.path.join(raw_data_train, folder) )\n",
    "    for image in os.listdir( os.path.join(raw_data_train, folder) ):\n",
    "        ## print(image)\n",
    "        if folder not in labels_train:\n",
    "            labels_train.append(folder)\n",
    "        targets_train.append( labels_train.index(folder) )\n",
    "        \n",
    "        img_arr = imageio.imread( os.path.join(raw_data_train, folder, image), pilmode=\"RGB\")\n",
    "        ## resize = torchvision.transforms.Resize(size)\n",
    "        ## crop_center = torchvision.transforms.CenterCrop(size)\n",
    "\n",
    "        img = torch.from_numpy(img_arr).permute(2, 0, 1).float()\n",
    "        ## img = resize(img)\n",
    "        ## img = crop_center(img)\n",
    "        img /= 255\n",
    "        dataset_train.append(img)\n",
    "        \n",
    "     "
   ]
  },
  {
   "cell_type": "code",
   "execution_count": null,
   "id": "6a25a965",
   "metadata": {},
   "outputs": [],
   "source": [
    "labels_train"
   ]
  },
  {
   "cell_type": "code",
   "execution_count": null,
   "id": "a5e6ebe6",
   "metadata": {},
   "outputs": [],
   "source": [
    "len( targets_train )"
   ]
  },
  {
   "cell_type": "code",
   "execution_count": null,
   "id": "0b25d0f4",
   "metadata": {},
   "outputs": [],
   "source": [
    "dataset_train[1].shape"
   ]
  },
  {
   "cell_type": "code",
   "execution_count": null,
   "id": "3bcc8f4f",
   "metadata": {},
   "outputs": [],
   "source": [
    "data_train    = torch.stack(  dataset_train )\n",
    "targets_train = torch.Tensor( targets_train ).type( torch.LongTensor )\n",
    "\n",
    "torch.save( (data_train, targets_train, labels_train) , \"CIFAR_train_dataset\")\n",
    "\n",
    "## data1, targets1, labels1 = torch.load(dataset_save)"
   ]
  },
  {
   "cell_type": "code",
   "execution_count": null,
   "id": "4274b74f",
   "metadata": {},
   "outputs": [],
   "source": [
    "data_train.shape\n",
    "              "
   ]
  },
  {
   "cell_type": "code",
   "execution_count": null,
   "id": "9920a54d",
   "metadata": {},
   "outputs": [],
   "source": [
    "targets_train.shape"
   ]
  },
  {
   "cell_type": "code",
   "execution_count": null,
   "id": "cc0dde56",
   "metadata": {},
   "outputs": [],
   "source": [
    "data_train[2].shape"
   ]
  },
  {
   "cell_type": "code",
   "execution_count": null,
   "id": "e3a1492a",
   "metadata": {},
   "outputs": [],
   "source": [
    "targets_train[25000:26000]"
   ]
  },
  {
   "cell_type": "code",
   "execution_count": null,
   "id": "8377cee9",
   "metadata": {},
   "outputs": [],
   "source": []
  },
  {
   "cell_type": "code",
   "execution_count": null,
   "id": "373703c2",
   "metadata": {},
   "outputs": [],
   "source": []
  }
 ],
 "metadata": {
  "kernelspec": {
   "display_name": "Python 3 (ipykernel)",
   "language": "python",
   "name": "python3"
  },
  "language_info": {
   "codemirror_mode": {
    "name": "ipython",
    "version": 3
   },
   "file_extension": ".py",
   "mimetype": "text/x-python",
   "name": "python",
   "nbconvert_exporter": "python",
   "pygments_lexer": "ipython3",
   "version": "3.11.5"
  }
 },
 "nbformat": 4,
 "nbformat_minor": 5
}
